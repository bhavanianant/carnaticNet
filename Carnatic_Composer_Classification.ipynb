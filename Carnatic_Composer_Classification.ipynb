{
 "cells": [
  {
   "cell_type": "code",
   "execution_count": 1,
   "metadata": {},
   "outputs": [
    {
     "name": "stderr",
     "output_type": "stream",
     "text": [
      "Using TensorFlow backend.\n"
     ]
    }
   ],
   "source": [
    "import pickle\n",
    "import numpy as np\n",
    "import collections\n",
    "\n",
    "from sklearn.model_selection import train_test_split\n",
    "\n",
    "import keras\n",
    "from keras.models import Sequential\n",
    "from keras.layers import Dense, Dropout, Activation\n",
    "from keras.optimizers import SGD"
   ]
  },
  {
   "cell_type": "markdown",
   "metadata": {},
   "source": [
    "# Let's explore the data!"
   ]
  },
  {
   "cell_type": "code",
   "execution_count": 2,
   "metadata": {
    "collapsed": true
   },
   "outputs": [],
   "source": [
    "krithi_words = pickle.load( open( \"composer_lyrics.pkl\", \"rb\" ) )"
   ]
  },
  {
   "cell_type": "code",
   "execution_count": 3,
   "metadata": {},
   "outputs": [
    {
     "name": "stdout",
     "output_type": "stream",
     "text": [
      "['Thyagaraja', 'Ramadasu', 'ShyamaShaastri', 'Annamayya']\n",
      "Thyagaraja\n",
      "2366\n",
      "Ramadasu\n",
      "259\n",
      "ShyamaShaastri\n",
      "337\n",
      "Annamayya\n",
      "165\n"
     ]
    }
   ],
   "source": [
    "# number of unique words as scraped\n",
    "print krithi_words.keys()\n",
    "for k in krithi_words.keys():\n",
    "    print k\n",
    "    print len(list(krithi_words[k]))"
   ]
  },
  {
   "cell_type": "code",
   "execution_count": 4,
   "metadata": {},
   "outputs": [
    {
     "name": "stdout",
     "output_type": "stream",
     "text": [
      "Composer:  Thyagaraja\n",
      "[(u'rama', 230), (u'shri', 101), (u'ni', 69), (u'manasa', 60), (u'o', 58), (u'na', 33), (u'ne', 33), (u'pahi', 32), (u'mam', 23), (u'daya', 20)]\n",
      "Composer:  Ramadasu\n",
      "[(u'rama', 35), (u'rara', 8), (u'shri', 8), (u'o', 8), (u'ni', 8), (u'ho', 7), (u'na', 7), (u'pahi', 6), (u'sitarama', 5), (u'nanu', 5)]\n",
      "Composer:  Annamayya\n",
      "[(u'namo', 6), (u'tandanana', 4), (u'vijayeebhava', 3), (u'narayana', 3), (u'bhala', 2), (u'govinda', 2), (u'brahma', 2), (u'twameva', 2), (u'shriman', 2), (u'sharanu', 2)]\n",
      "Composer:  ShyamaShaastri\n",
      "[(u'amba', 16), (u'nannu', 13), (u'shri', 11), (u'kamaksi', 11), (u'brova', 10), (u'devi', 9), (u'ninnu', 8), (u'ni', 7), (u'na', 6), (u'brovu', 5)]\n"
     ]
    }
   ],
   "source": [
    "# number of unique words after removing case sensitivity\n",
    "grouped_lyrics = {\n",
    "    \"Thyagaraja\":collections.Counter(),\n",
    "    \"ShyamaShaastri\":collections.Counter(),\n",
    "    \"Ramadasu\":collections.Counter(),\n",
    "    \"Annamayya\":collections.Counter()\n",
    "}\n",
    "\n",
    "for k in krithi_words.keys():\n",
    "    grouped_lyrics[k].update([w.lower() for w in krithi_words[k].elements()])\n",
    "    \n",
    "for k in grouped_lyrics.keys():\n",
    "    print \"Composer: \", k\n",
    "    print grouped_lyrics[k].most_common(10)"
   ]
  },
  {
   "cell_type": "markdown",
   "metadata": {},
   "source": [
    "# Create data matrix"
   ]
  },
  {
   "cell_type": "markdown",
   "metadata": {},
   "source": [
    "(See separate script)"
   ]
  },
  {
   "cell_type": "code",
   "execution_count": 5,
   "metadata": {},
   "outputs": [
    {
     "name": "stdout",
     "output_type": "stream",
     "text": [
      "Thyagaraja\n",
      "20\n",
      "Ramadasu\n",
      "40\n",
      "Annamayya\n",
      "60\n",
      "ShyamaShaastri\n",
      "80\n",
      "62\n"
     ]
    }
   ],
   "source": [
    "# create the vocabulary dict\n",
    "top_num = 20\n",
    "\n",
    "vocab_list = []\n",
    "for k in grouped_lyrics.keys():\n",
    "    vocab_list += [x for (x,y) in grouped_lyrics[k].most_common(top_num)]\n",
    "    print k\n",
    "    print len(vocab_list)\n",
    "    \n",
    "vocab_dict = {}\n",
    "for i, w in enumerate(list(set(vocab_list))):\n",
    "    vocab_dict[w] = i\n",
    "\n",
    "print len(vocab_dict.keys())\n",
    "pickle.dump(vocab_dict, open(\"vocab_dict.pkl\", \"wb\") )"
   ]
  },
  {
   "cell_type": "code",
   "execution_count": 6,
   "metadata": {},
   "outputs": [
    {
     "data": {
      "text/plain": [
       "array([710,  79,  56,  35])"
      ]
     },
     "execution_count": 6,
     "metadata": {},
     "output_type": "execute_result"
    }
   ],
   "source": [
    "# load pickled input matrices\n",
    "X = np.load(\"X_62.dat\")\n",
    "Y = np.load(\"Y_62.dat\")\n",
    "unique, counts = np.unique(Y,return_counts=True)\n",
    "counts"
   ]
  },
  {
   "cell_type": "code",
   "execution_count": 7,
   "metadata": {},
   "outputs": [
    {
     "name": "stdout",
     "output_type": "stream",
     "text": [
      "[449  62  49  17]\n"
     ]
    }
   ],
   "source": [
    "# what happens if we delete rows corresponding to songs that had no words in the vocab dictionary?\n",
    "\n",
    "row_idxs_to_delete = []\n",
    "\n",
    "for row in range(X.shape[0]):\n",
    "    if np.all(X[row, :] == 0):\n",
    "        row_idxs_to_delete.append(row)\n",
    "        \n",
    "X_cleaned = np.delete(X, row_idxs_to_delete, axis=0)\n",
    "Y_cleaned = np.delete(Y, row_idxs_to_delete, axis=0)\n",
    "unique, counts = np.unique(Y_cleaned,return_counts=True)\n",
    "print counts\n",
    "num_T, num_S, num_R, num_A = counts        \n"
   ]
  },
  {
   "cell_type": "code",
   "execution_count": 8,
   "metadata": {},
   "outputs": [
    {
     "data": {
      "text/plain": [
       "array([80, 62, 49, 17])"
      ]
     },
     "execution_count": 8,
     "metadata": {},
     "output_type": "execute_result"
    }
   ],
   "source": [
    "# randomly choose 80 from the massive thyagaraja, preserve the rest (serious class imbalance but meh)\n",
    "X_balance = X_cleaned.copy()\n",
    "Y_balance = Y_cleaned.copy()\n",
    "del_idxs = np.random.choice(num_T, num_T - 80, replace=False)\n",
    "X_balance = np.delete(X_balance, del_idxs, axis=0)\n",
    "Y_balance = np.delete(Y_balance, del_idxs, axis=0)\n",
    "unique, counts = np.unique(Y_balance,return_counts=True)\n",
    "counts"
   ]
  },
  {
   "cell_type": "code",
   "execution_count": 9,
   "metadata": {
    "scrolled": false
   },
   "outputs": [],
   "source": [
    "# turn y_balance into a one-hot encoding\n",
    "# print Y_balance\n",
    "\n",
    "Y_balance_encoded = keras.utils.to_categorical(Y_balance, num_classes = 4)\n",
    "# print Y_balance_encoded"
   ]
  },
  {
   "cell_type": "markdown",
   "metadata": {},
   "source": [
    "X_balance is now (example_songs, frequency-in-vocab-dict) ; vocab dict is defined by top 20 words from each composer\n",
    "\n",
    "Y_balance_encoded is now (example_songs,4) ; ont hot encoded class (composer) labels"
   ]
  },
  {
   "cell_type": "code",
   "execution_count": 21,
   "metadata": {},
   "outputs": [],
   "source": [
    "# split into test and train sets\n",
    "\n",
    "X_train, X_test, Y_train, Y_test = train_test_split(X_balance, Y_balance_encoded, test_size=0.10, random_state=42, shuffle=True)"
   ]
  },
  {
   "cell_type": "code",
   "execution_count": 22,
   "metadata": {},
   "outputs": [
    {
     "name": "stdout",
     "output_type": "stream",
     "text": [
      "(187, 62)\n",
      "(187, 4)\n",
      "(21, 62)\n",
      "(21, 4)\n"
     ]
    }
   ],
   "source": [
    "print X_train.shape\n",
    "print Y_train.shape\n",
    "print X_test.shape\n",
    "print Y_test.shape"
   ]
  },
  {
   "cell_type": "code",
   "execution_count": 23,
   "metadata": {
    "scrolled": true
   },
   "outputs": [
    {
     "name": "stdout",
     "output_type": "stream",
     "text": [
      "Epoch 1/200\n",
      "187/187 [==============================] - 0s - loss: 1.2466 - acc: 0.4171        \n",
      "Epoch 2/200\n",
      "187/187 [==============================] - 0s - loss: 0.9627 - acc: 0.6310     \n",
      "Epoch 3/200\n",
      "187/187 [==============================] - 0s - loss: 0.7273 - acc: 0.7112     \n",
      "Epoch 4/200\n",
      "187/187 [==============================] - 0s - loss: 0.6078 - acc: 0.7487       \n",
      "Epoch 5/200\n",
      "187/187 [==============================] - 0s - loss: 0.5163 - acc: 0.7807     \n",
      "Epoch 6/200\n",
      "187/187 [==============================] - 0s - loss: 0.4756 - acc: 0.7914     \n",
      "Epoch 7/200\n",
      "187/187 [==============================] - 0s - loss: 0.4315 - acc: 0.8342     \n",
      "Epoch 8/200\n",
      "187/187 [==============================] - 0s - loss: 0.4033 - acc: 0.8342     \n",
      "Epoch 9/200\n",
      "187/187 [==============================] - 0s - loss: 0.3844 - acc: 0.8182     \n",
      "Epoch 10/200\n",
      "187/187 [==============================] - 0s - loss: 0.3521 - acc: 0.8396     \n",
      "Epoch 11/200\n",
      "187/187 [==============================] - 0s - loss: 0.3521 - acc: 0.8235       \n",
      "Epoch 12/200\n",
      "187/187 [==============================] - 0s - loss: 0.3392 - acc: 0.8289       \n",
      "Epoch 13/200\n",
      "187/187 [==============================] - 0s - loss: 0.3440 - acc: 0.8396       \n",
      "Epoch 14/200\n",
      "187/187 [==============================] - 0s - loss: 0.3072 - acc: 0.8663     \n",
      "Epoch 15/200\n",
      "187/187 [==============================] - 0s - loss: 0.3061 - acc: 0.8556     \n",
      "Epoch 16/200\n",
      "187/187 [==============================] - 0s - loss: 0.2992 - acc: 0.8610     \n",
      "Epoch 17/200\n",
      "187/187 [==============================] - 0s - loss: 0.3039 - acc: 0.8449       \n",
      "Epoch 18/200\n",
      "187/187 [==============================] - 0s - loss: 0.2835 - acc: 0.8717     \n",
      "Epoch 19/200\n",
      "187/187 [==============================] - 0s - loss: 0.2812 - acc: 0.8770     \n",
      "Epoch 20/200\n",
      "187/187 [==============================] - 0s - loss: 0.2582 - acc: 0.9037       \n",
      "Epoch 21/200\n",
      "187/187 [==============================] - 0s - loss: 0.2760 - acc: 0.8770       \n",
      "Epoch 22/200\n",
      "187/187 [==============================] - 0s - loss: 0.2697 - acc: 0.8717     \n",
      "Epoch 23/200\n",
      "187/187 [==============================] - 0s - loss: 0.2649 - acc: 0.8930     \n",
      "Epoch 24/200\n",
      "187/187 [==============================] - 0s - loss: 0.2880 - acc: 0.8610       \n",
      "Epoch 25/200\n",
      "187/187 [==============================] - 0s - loss: 0.2571 - acc: 0.8877     \n",
      "Epoch 26/200\n",
      "187/187 [==============================] - 0s - loss: 0.2542 - acc: 0.8717     \n",
      "Epoch 27/200\n",
      "187/187 [==============================] - 0s - loss: 0.2516 - acc: 0.8770       \n",
      "Epoch 28/200\n",
      "187/187 [==============================] - 0s - loss: 0.2407 - acc: 0.8930     \n",
      "Epoch 29/200\n",
      "187/187 [==============================] - 0s - loss: 0.2371 - acc: 0.8984     \n",
      "Epoch 30/200\n",
      "187/187 [==============================] - 0s - loss: 0.2464 - acc: 0.8930     \n",
      "Epoch 31/200\n",
      "187/187 [==============================] - 0s - loss: 0.2481 - acc: 0.8770     \n",
      "Epoch 32/200\n",
      "187/187 [==============================] - 0s - loss: 0.2472 - acc: 0.8824       \n",
      "Epoch 33/200\n",
      "187/187 [==============================] - 0s - loss: 0.2384 - acc: 0.8824       \n",
      "Epoch 34/200\n",
      "187/187 [==============================] - 0s - loss: 0.2566 - acc: 0.8770       \n",
      "Epoch 35/200\n",
      "187/187 [==============================] - 0s - loss: 0.2305 - acc: 0.8770     \n",
      "Epoch 36/200\n",
      "187/187 [==============================] - 0s - loss: 0.2234 - acc: 0.8930     \n",
      "Epoch 37/200\n",
      "187/187 [==============================] - 0s - loss: 0.2260 - acc: 0.8824       \n",
      "Epoch 38/200\n",
      "187/187 [==============================] - 0s - loss: 0.2269 - acc: 0.8770       \n",
      "Epoch 39/200\n",
      "187/187 [==============================] - 0s - loss: 0.2174 - acc: 0.8877     \n",
      "Epoch 40/200\n",
      "187/187 [==============================] - 0s - loss: 0.2141 - acc: 0.8984       \n",
      "Epoch 41/200\n",
      "187/187 [==============================] - 0s - loss: 0.2134 - acc: 0.8717       \n",
      "Epoch 42/200\n",
      "187/187 [==============================] - 0s - loss: 0.2204 - acc: 0.8824       \n",
      "Epoch 43/200\n",
      "187/187 [==============================] - 0s - loss: 0.2136 - acc: 0.8930     \n",
      "Epoch 44/200\n",
      "187/187 [==============================] - 0s - loss: 0.2037 - acc: 0.9091       \n",
      "Epoch 45/200\n",
      "187/187 [==============================] - 0s - loss: 0.2143 - acc: 0.8770       \n",
      "Epoch 46/200\n",
      "187/187 [==============================] - 0s - loss: 0.2013 - acc: 0.8770     \n",
      "Epoch 47/200\n",
      "187/187 [==============================] - 0s - loss: 0.2132 - acc: 0.8877       \n",
      "Epoch 48/200\n",
      "187/187 [==============================] - 0s - loss: 0.2138 - acc: 0.8877       \n",
      "Epoch 49/200\n",
      "187/187 [==============================] - 0s - loss: 0.2011 - acc: 0.8824     \n",
      "Epoch 50/200\n",
      "187/187 [==============================] - 0s - loss: 0.1994 - acc: 0.8877       \n",
      "Epoch 51/200\n",
      "187/187 [==============================] - 0s - loss: 0.2013 - acc: 0.8930     \n",
      "Epoch 52/200\n",
      "187/187 [==============================] - 0s - loss: 0.1968 - acc: 0.9037     \n",
      "Epoch 53/200\n",
      "187/187 [==============================] - 0s - loss: 0.2036 - acc: 0.8824       \n",
      "Epoch 54/200\n",
      "187/187 [==============================] - 0s - loss: 0.1980 - acc: 0.8930       \n",
      "Epoch 55/200\n",
      "187/187 [==============================] - 0s - loss: 0.2018 - acc: 0.8930       \n",
      "Epoch 56/200\n",
      "187/187 [==============================] - 0s - loss: 0.2042 - acc: 0.8930       \n",
      "Epoch 57/200\n",
      "187/187 [==============================] - 0s - loss: 0.1939 - acc: 0.8877     \n",
      "Epoch 58/200\n",
      "187/187 [==============================] - 0s - loss: 0.1990 - acc: 0.8824       \n",
      "Epoch 59/200\n",
      "187/187 [==============================] - 0s - loss: 0.1941 - acc: 0.8984       \n",
      "Epoch 60/200\n",
      "187/187 [==============================] - 0s - loss: 0.1884 - acc: 0.8930     \n",
      "Epoch 61/200\n",
      "187/187 [==============================] - 0s - loss: 0.1909 - acc: 0.9037       \n",
      "Epoch 62/200\n",
      "187/187 [==============================] - 0s - loss: 0.1909 - acc: 0.8930     \n",
      "Epoch 63/200\n",
      "187/187 [==============================] - 0s - loss: 0.2103 - acc: 0.8984       \n",
      "Epoch 64/200\n",
      "187/187 [==============================] - 0s - loss: 0.1876 - acc: 0.8930     \n",
      "Epoch 65/200\n",
      "187/187 [==============================] - 0s - loss: 0.1878 - acc: 0.8930       \n",
      "Epoch 66/200\n",
      "187/187 [==============================] - 0s - loss: 0.1879 - acc: 0.8930       \n",
      "Epoch 67/200\n",
      "187/187 [==============================] - 0s - loss: 0.1862 - acc: 0.8877     \n",
      "Epoch 68/200\n",
      "187/187 [==============================] - 0s - loss: 0.1883 - acc: 0.8877     \n",
      "Epoch 69/200\n",
      "187/187 [==============================] - 0s - loss: 0.1897 - acc: 0.8824       \n",
      "Epoch 70/200\n",
      "187/187 [==============================] - 0s - loss: 0.1950 - acc: 0.8984       \n",
      "Epoch 71/200\n",
      "187/187 [==============================] - 0s - loss: 0.1956 - acc: 0.8770       \n",
      "Epoch 72/200\n",
      "187/187 [==============================] - 0s - loss: 0.1826 - acc: 0.8984       \n",
      "Epoch 73/200\n",
      "187/187 [==============================] - 0s - loss: 0.1808 - acc: 0.8984       \n",
      "Epoch 74/200\n",
      "187/187 [==============================] - 0s - loss: 0.1847 - acc: 0.8824       \n",
      "Epoch 75/200\n",
      "187/187 [==============================] - 0s - loss: 0.1851 - acc: 0.9037       \n",
      "Epoch 76/200\n",
      "187/187 [==============================] - 0s - loss: 0.1794 - acc: 0.8930     \n",
      "Epoch 77/200\n",
      "187/187 [==============================] - 0s - loss: 0.1864 - acc: 0.9037     \n",
      "Epoch 78/200\n",
      "187/187 [==============================] - 0s - loss: 0.1894 - acc: 0.9037     \n",
      "Epoch 79/200\n",
      "187/187 [==============================] - 0s - loss: 0.1834 - acc: 0.8877     \n",
      "Epoch 80/200\n",
      "187/187 [==============================] - 0s - loss: 0.1980 - acc: 0.8930     \n",
      "Epoch 81/200\n",
      "187/187 [==============================] - 0s - loss: 0.1847 - acc: 0.8824       \n",
      "Epoch 82/200\n",
      "187/187 [==============================] - 0s - loss: 0.1796 - acc: 0.8930       \n",
      "Epoch 83/200\n",
      "187/187 [==============================] - 0s - loss: 0.1797 - acc: 0.9037       \n",
      "Epoch 84/200\n",
      "187/187 [==============================] - 0s - loss: 0.1769 - acc: 0.9091       \n",
      "Epoch 85/200\n",
      "187/187 [==============================] - 0s - loss: 0.1809 - acc: 0.8824       \n",
      "Epoch 86/200\n",
      "187/187 [==============================] - 0s - loss: 0.1814 - acc: 0.8824       \n",
      "Epoch 87/200\n",
      "187/187 [==============================] - 0s - loss: 0.1776 - acc: 0.8984       \n",
      "Epoch 88/200\n"
     ]
    },
    {
     "name": "stdout",
     "output_type": "stream",
     "text": [
      "187/187 [==============================] - 0s - loss: 0.1827 - acc: 0.8877       \n",
      "Epoch 89/200\n",
      "187/187 [==============================] - 0s - loss: 0.1783 - acc: 0.8877       \n",
      "Epoch 90/200\n",
      "187/187 [==============================] - 0s - loss: 0.1765 - acc: 0.8984       \n",
      "Epoch 91/200\n",
      "187/187 [==============================] - 0s - loss: 0.1785 - acc: 0.8824     \n",
      "Epoch 92/200\n",
      "187/187 [==============================] - 0s - loss: 0.1775 - acc: 0.9037       \n",
      "Epoch 93/200\n",
      "187/187 [==============================] - 0s - loss: 0.1735 - acc: 0.9091       \n",
      "Epoch 94/200\n",
      "187/187 [==============================] - 0s - loss: 0.1730 - acc: 0.8984       \n",
      "Epoch 95/200\n",
      "187/187 [==============================] - 0s - loss: 0.1745 - acc: 0.8930     \n",
      "Epoch 96/200\n",
      "187/187 [==============================] - 0s - loss: 0.1772 - acc: 0.9037       \n",
      "Epoch 97/200\n",
      "187/187 [==============================] - 0s - loss: 0.1792 - acc: 0.8984       \n",
      "Epoch 98/200\n",
      "187/187 [==============================] - 0s - loss: 0.2077 - acc: 0.8984       \n",
      "Epoch 99/200\n",
      "187/187 [==============================] - 0s - loss: 0.1743 - acc: 0.8930       \n",
      "Epoch 100/200\n",
      "187/187 [==============================] - 0s - loss: 0.1732 - acc: 0.8984       \n",
      "Epoch 101/200\n",
      "187/187 [==============================] - 0s - loss: 0.1709 - acc: 0.8877       \n",
      "Epoch 102/200\n",
      "187/187 [==============================] - 0s - loss: 0.1731 - acc: 0.8824       \n",
      "Epoch 103/200\n",
      "187/187 [==============================] - 0s - loss: 0.1716 - acc: 0.8984     \n",
      "Epoch 104/200\n",
      "187/187 [==============================] - 0s - loss: 0.1748 - acc: 0.8877       \n",
      "Epoch 105/200\n",
      "187/187 [==============================] - 0s - loss: 0.1716 - acc: 0.9037       \n",
      "Epoch 106/200\n",
      "187/187 [==============================] - 0s - loss: 0.1725 - acc: 0.9144       \n",
      "Epoch 107/200\n",
      "187/187 [==============================] - 0s - loss: 0.1738 - acc: 0.8877       \n",
      "Epoch 108/200\n",
      "187/187 [==============================] - 0s - loss: 0.1718 - acc: 0.9037       \n",
      "Epoch 109/200\n",
      "187/187 [==============================] - 0s - loss: 0.1719 - acc: 0.8984       \n",
      "Epoch 110/200\n",
      "187/187 [==============================] - 0s - loss: 0.1713 - acc: 0.8877       \n",
      "Epoch 111/200\n",
      "187/187 [==============================] - 0s - loss: 0.1716 - acc: 0.8984       \n",
      "Epoch 112/200\n",
      "187/187 [==============================] - 0s - loss: 0.1733 - acc: 0.9037       \n",
      "Epoch 113/200\n",
      "187/187 [==============================] - 0s - loss: 0.1690 - acc: 0.8717       \n",
      "Epoch 114/200\n",
      "187/187 [==============================] - 0s - loss: 0.1709 - acc: 0.8770     \n",
      "Epoch 115/200\n",
      "187/187 [==============================] - 0s - loss: 0.1697 - acc: 0.9037     \n",
      "Epoch 116/200\n",
      "187/187 [==============================] - 0s - loss: 0.1691 - acc: 0.8984       \n",
      "Epoch 117/200\n",
      "187/187 [==============================] - 0s - loss: 0.1679 - acc: 0.8824       \n",
      "Epoch 118/200\n",
      "187/187 [==============================] - 0s - loss: 0.1678 - acc: 0.9037       \n",
      "Epoch 119/200\n",
      "187/187 [==============================] - 0s - loss: 0.1687 - acc: 0.8984       \n",
      "Epoch 120/200\n",
      "187/187 [==============================] - 0s - loss: 0.1693 - acc: 0.9037       \n",
      "Epoch 121/200\n",
      "187/187 [==============================] - 0s - loss: 0.1687 - acc: 0.8930       \n",
      "Epoch 122/200\n",
      "187/187 [==============================] - 0s - loss: 0.1677 - acc: 0.9037       \n",
      "Epoch 123/200\n",
      "187/187 [==============================] - 0s - loss: 0.1682 - acc: 0.9091       \n",
      "Epoch 124/200\n",
      "187/187 [==============================] - 0s - loss: 0.1710 - acc: 0.9037       \n",
      "Epoch 125/200\n",
      "187/187 [==============================] - 0s - loss: 0.2218 - acc: 0.8877       \n",
      "Epoch 126/200\n",
      "187/187 [==============================] - 0s - loss: 0.2398 - acc: 0.8610       \n",
      "Epoch 127/200\n",
      "187/187 [==============================] - 0s - loss: 0.1770 - acc: 0.9091       \n",
      "Epoch 128/200\n",
      "187/187 [==============================] - 0s - loss: 0.1699 - acc: 0.8930       \n",
      "Epoch 129/200\n",
      "187/187 [==============================] - 0s - loss: 0.1682 - acc: 0.8877       \n",
      "Epoch 130/200\n",
      "187/187 [==============================] - 0s - loss: 0.1673 - acc: 0.8930       \n",
      "Epoch 131/200\n",
      "187/187 [==============================] - 0s - loss: 0.1682 - acc: 0.8824       \n",
      "Epoch 132/200\n",
      "187/187 [==============================] - 0s - loss: 0.1684 - acc: 0.8824       \n",
      "Epoch 133/200\n",
      "187/187 [==============================] - 0s - loss: 0.1675 - acc: 0.8930       \n",
      "Epoch 134/200\n",
      "187/187 [==============================] - 0s - loss: 0.1679 - acc: 0.8930       \n",
      "Epoch 135/200\n",
      "187/187 [==============================] - 0s - loss: 0.1669 - acc: 0.8770       \n",
      "Epoch 136/200\n",
      "187/187 [==============================] - 0s - loss: 0.1675 - acc: 0.9037       \n",
      "Epoch 137/200\n",
      "187/187 [==============================] - 0s - loss: 0.1672 - acc: 0.9091       \n",
      "Epoch 138/200\n",
      "187/187 [==============================] - 0s - loss: 0.1681 - acc: 0.8877     \n",
      "Epoch 139/200\n",
      "187/187 [==============================] - 0s - loss: 0.1666 - acc: 0.8877       \n",
      "Epoch 140/200\n",
      "187/187 [==============================] - 0s - loss: 0.1672 - acc: 0.8770       \n",
      "Epoch 141/200\n",
      "187/187 [==============================] - 0s - loss: 0.1671 - acc: 0.8984       \n",
      "Epoch 142/200\n",
      "187/187 [==============================] - 0s - loss: 0.1681 - acc: 0.9037       \n",
      "Epoch 143/200\n",
      "187/187 [==============================] - 0s - loss: 0.1685 - acc: 0.8824       \n",
      "Epoch 144/200\n",
      "187/187 [==============================] - 0s - loss: 0.1672 - acc: 0.8824       \n",
      "Epoch 145/200\n",
      "187/187 [==============================] - 0s - loss: 0.1669 - acc: 0.8930     \n",
      "Epoch 146/200\n",
      "187/187 [==============================] - 0s - loss: 0.1681 - acc: 0.8877       \n",
      "Epoch 147/200\n",
      "187/187 [==============================] - 0s - loss: 0.1926 - acc: 0.8877       \n",
      "Epoch 148/200\n",
      "187/187 [==============================] - 0s - loss: 0.1688 - acc: 0.8930       \n",
      "Epoch 149/200\n",
      "187/187 [==============================] - 0s - loss: 0.1664 - acc: 0.8877       \n",
      "Epoch 150/200\n",
      "187/187 [==============================] - 0s - loss: 0.1674 - acc: 0.8930       \n",
      "Epoch 151/200\n",
      "187/187 [==============================] - 0s - loss: 0.1681 - acc: 0.8930       \n",
      "Epoch 152/200\n",
      "187/187 [==============================] - 0s - loss: 0.1662 - acc: 0.8984       \n",
      "Epoch 153/200\n",
      "187/187 [==============================] - 0s - loss: 0.1658 - acc: 0.8984     \n",
      "Epoch 154/200\n",
      "187/187 [==============================] - 0s - loss: 0.1675 - acc: 0.8984       \n",
      "Epoch 155/200\n",
      "187/187 [==============================] - 0s - loss: 0.1676 - acc: 0.8984       \n",
      "Epoch 156/200\n",
      "187/187 [==============================] - 0s - loss: 0.1706 - acc: 0.9037       \n",
      "Epoch 157/200\n",
      "187/187 [==============================] - 0s - loss: 0.1674 - acc: 0.8984       \n",
      "Epoch 158/200\n",
      "187/187 [==============================] - 0s - loss: 0.1684 - acc: 0.9037       \n",
      "Epoch 159/200\n",
      "187/187 [==============================] - 0s - loss: 0.1661 - acc: 0.8877       \n",
      "Epoch 160/200\n",
      "187/187 [==============================] - 0s - loss: 0.1682 - acc: 0.8877       \n",
      "Epoch 161/200\n",
      "187/187 [==============================] - 0s - loss: 0.1664 - acc: 0.8930       \n",
      "Epoch 162/200\n",
      "187/187 [==============================] - 0s - loss: 0.1665 - acc: 0.8984       \n",
      "Epoch 163/200\n",
      "187/187 [==============================] - 0s - loss: 0.1819 - acc: 0.8930       \n",
      "Epoch 164/200\n",
      "187/187 [==============================] - 0s - loss: 0.1676 - acc: 0.8984       \n",
      "Epoch 165/200\n",
      "187/187 [==============================] - 0s - loss: 0.2137 - acc: 0.8877       \n",
      "Epoch 166/200\n",
      "187/187 [==============================] - 0s - loss: 0.1671 - acc: 0.8930       \n",
      "Epoch 167/200\n",
      "187/187 [==============================] - 0s - loss: 0.1655 - acc: 0.9091       \n",
      "Epoch 168/200\n",
      "187/187 [==============================] - 0s - loss: 0.1656 - acc: 0.8824       \n",
      "Epoch 169/200\n",
      "187/187 [==============================] - 0s - loss: 0.1669 - acc: 0.9091       \n",
      "Epoch 170/200\n",
      "187/187 [==============================] - 0s - loss: 0.1648 - acc: 0.9037     \n",
      "Epoch 171/200\n",
      "187/187 [==============================] - 0s - loss: 0.1654 - acc: 0.8824       \n",
      "Epoch 172/200\n",
      "187/187 [==============================] - 0s - loss: 0.1649 - acc: 0.8824       \n",
      "Epoch 173/200\n"
     ]
    },
    {
     "name": "stdout",
     "output_type": "stream",
     "text": [
      "187/187 [==============================] - 0s - loss: 0.1660 - acc: 0.9037       \n",
      "Epoch 174/200\n",
      "187/187 [==============================] - 0s - loss: 0.1700 - acc: 0.8824       \n",
      "Epoch 175/200\n",
      "187/187 [==============================] - 0s - loss: 0.1721 - acc: 0.8877       \n",
      "Epoch 176/200\n",
      "187/187 [==============================] - 0s - loss: 0.1688 - acc: 0.8877       \n",
      "Epoch 177/200\n",
      "187/187 [==============================] - 0s - loss: 0.1700 - acc: 0.8984       \n",
      "Epoch 178/200\n",
      "187/187 [==============================] - 0s - loss: 0.1819 - acc: 0.9091       \n",
      "Epoch 179/200\n",
      "187/187 [==============================] - 0s - loss: 0.1663 - acc: 0.9037     \n",
      "Epoch 180/200\n",
      "187/187 [==============================] - 0s - loss: 0.1668 - acc: 0.8824       \n",
      "Epoch 181/200\n",
      "187/187 [==============================] - 0s - loss: 0.1653 - acc: 0.9091       \n",
      "Epoch 182/200\n",
      "187/187 [==============================] - 0s - loss: 0.1667 - acc: 0.8984       \n",
      "Epoch 183/200\n",
      "187/187 [==============================] - 0s - loss: 0.1661 - acc: 0.9037       \n",
      "Epoch 184/200\n",
      "187/187 [==============================] - 0s - loss: 0.1663 - acc: 0.8984     \n",
      "Epoch 185/200\n",
      "187/187 [==============================] - 0s - loss: 0.1649 - acc: 0.8930       \n",
      "Epoch 186/200\n",
      "187/187 [==============================] - 0s - loss: 0.1652 - acc: 0.8984       \n",
      "Epoch 187/200\n",
      "187/187 [==============================] - 0s - loss: 0.1656 - acc: 0.9037       \n",
      "Epoch 188/200\n",
      "187/187 [==============================] - 0s - loss: 0.1646 - acc: 0.8930       \n",
      "Epoch 189/200\n",
      "187/187 [==============================] - 0s - loss: 0.2264 - acc: 0.8824       \n",
      "Epoch 190/200\n",
      "187/187 [==============================] - 0s - loss: 0.2641 - acc: 0.8877       \n",
      "Epoch 191/200\n",
      "187/187 [==============================] - 0s - loss: 0.2453 - acc: 0.9037       \n",
      "Epoch 192/200\n",
      "187/187 [==============================] - 0s - loss: 0.1869 - acc: 0.8717       \n",
      "Epoch 193/200\n",
      "187/187 [==============================] - 0s - loss: 0.1706 - acc: 0.9037       \n",
      "Epoch 194/200\n",
      "187/187 [==============================] - 0s - loss: 0.1688 - acc: 0.8877       \n",
      "Epoch 195/200\n",
      "187/187 [==============================] - 0s - loss: 0.1671 - acc: 0.8984       \n",
      "Epoch 196/200\n",
      "187/187 [==============================] - 0s - loss: 0.1669 - acc: 0.8877       \n",
      "Epoch 197/200\n",
      "187/187 [==============================] - 0s - loss: 0.1661 - acc: 0.8984       \n",
      "Epoch 198/200\n",
      "187/187 [==============================] - 0s - loss: 0.1655 - acc: 0.8984       \n",
      "Epoch 199/200\n",
      "187/187 [==============================] - 0s - loss: 0.1655 - acc: 0.9037       \n",
      "Epoch 200/200\n",
      "187/187 [==============================] - 0s - loss: 0.1650 - acc: 0.9037       \n"
     ]
    },
    {
     "data": {
      "text/plain": [
       "<keras.callbacks.History at 0x7f3d64fb9d10>"
      ]
     },
     "execution_count": 23,
     "metadata": {},
     "output_type": "execute_result"
    }
   ],
   "source": [
    "model = Sequential()\n",
    "model.add(Dense(128, input_dim=62, activation='relu'))\n",
    "model.add(Dense(64, activation='relu'))\n",
    "model.add(Dense(16, activation='relu'))\n",
    "model.add(Dense(4, activation='softmax'))\n",
    "\n",
    "model.compile(loss='categorical_crossentropy', optimizer='adam', metrics=['accuracy'])\n",
    "model.fit(X_train, Y_train,epochs=200,batch_size=1)\n",
    "              "
   ]
  },
  {
   "cell_type": "code",
   "execution_count": 24,
   "metadata": {},
   "outputs": [
    {
     "name": "stdout",
     "output_type": "stream",
     "text": [
      "21/21 [==============================] - 0s\n"
     ]
    },
    {
     "data": {
      "text/plain": [
       "[3.6913652420043945, 0.61904764175415039]"
      ]
     },
     "execution_count": 24,
     "metadata": {},
     "output_type": "execute_result"
    }
   ],
   "source": [
    "model.evaluate(X_test, Y_test)"
   ]
  },
  {
   "cell_type": "code",
   "execution_count": 25,
   "metadata": {},
   "outputs": [],
   "source": [
    "Y_predictions = model.predict(X_test)"
   ]
  },
  {
   "cell_type": "code",
   "execution_count": null,
   "metadata": {},
   "outputs": [],
   "source": []
  },
  {
   "cell_type": "code",
   "execution_count": 26,
   "metadata": {},
   "outputs": [
    {
     "name": "stdout",
     "output_type": "stream",
     "text": [
      "{u'pahimam': 0, u'shriman': 1, u'mayamma': 2, u'bhala': 3, u'vandita': 5, u'sita': 6, u'ramayya': 7, u'sitarama': 8, u'shri': 9, u'govinda': 10, u'sharanu': 59, u'dayaradura': 15, u'shringara': 12, u'muddugare': 13, u'brahma': 14, u'purusa': 11, u'vijayeebhava': 16, u'namo': 56, u'pahi': 17, u'brovu': 18, u'kadigina': 30, u'appuleni': 20, u'ni': 21, u'manasa': 22, u'rada': 23, u'ramamayam': 24, u'bhavani': 4, u'velalanu': 19, u'ne': 27, u'ramacandra': 28, u'gati': 37, u'twameva': 31, u'bhavamulona': 29, u'vegame': 33, u'nanu': 34, u'amba': 35, u'dayalo': 36, u'ninnu': 38, u'sharanam': 42, u'narayana': 40, u'ceppave': 41, u'niku': 32, u'nera': 43, u'prabho': 39, u'nannu': 46, u'mam': 47, u'brovumu': 48, u'rara': 49, u'nama': 50, u'brova': 51, u'kamaksi': 52, u'devi': 53, u'tandanana': 57, u'emi': 54, u'o': 55, u'janani': 44, u'nammiti': 25, u'dem': 58, u'na': 26, u'daya': 61, u'rama': 60, u'ho': 45}\n"
     ]
    }
   ],
   "source": [
    "print vocab_dict"
   ]
  },
  {
   "cell_type": "code",
   "execution_count": 27,
   "metadata": {
    "scrolled": false
   },
   "outputs": [
    {
     "name": "stdout",
     "output_type": "stream",
     "text": [
      "~~~~~~~~~~~~~~~~~~~~~~~~\n",
      "Words in Vocabulary were:\n",
      "pahimam\n",
      "Correct composer is: ShyamaShaastri\n",
      "Prediction was: ShyamaShaastri\n",
      "~~~~~~~~~~~~~~~~~~~~~~~~\n",
      "~~~~~~~~~~~~~~~~~~~~~~~~\n",
      "Words in Vocabulary were:\n",
      "ne\n",
      "Correct composer is: Thyagaraja\n",
      "Prediction was: Thyagaraja\n",
      "~~~~~~~~~~~~~~~~~~~~~~~~\n",
      "~~~~~~~~~~~~~~~~~~~~~~~~\n",
      "Words in Vocabulary were:\n",
      "manasa\n",
      "Correct composer is: Thyagaraja\n",
      "Prediction was: Thyagaraja\n",
      "~~~~~~~~~~~~~~~~~~~~~~~~\n",
      "~~~~~~~~~~~~~~~~~~~~~~~~\n",
      "Words in Vocabulary were:\n",
      "ramayya na gati\n",
      "Correct composer is: Ramadasu\n",
      "Prediction was: Thyagaraja\n",
      "~~~~~~~~~~~~~~~~~~~~~~~~\n",
      "~~~~~~~~~~~~~~~~~~~~~~~~\n",
      "Words in Vocabulary were:\n",
      "kamaksi\n",
      "Correct composer is: ShyamaShaastri\n",
      "Prediction was: ShyamaShaastri\n",
      "~~~~~~~~~~~~~~~~~~~~~~~~\n",
      "~~~~~~~~~~~~~~~~~~~~~~~~\n",
      "Words in Vocabulary were:\n",
      "rama\n",
      "Correct composer is: Thyagaraja\n",
      "Prediction was: Ramadasu\n",
      "~~~~~~~~~~~~~~~~~~~~~~~~\n",
      "~~~~~~~~~~~~~~~~~~~~~~~~\n",
      "Words in Vocabulary were:\n",
      "na o rama\n",
      "Correct composer is: Ramadasu\n",
      "Prediction was: Ramadasu\n",
      "~~~~~~~~~~~~~~~~~~~~~~~~\n",
      "~~~~~~~~~~~~~~~~~~~~~~~~\n",
      "Words in Vocabulary were:\n",
      "narayana namo\n",
      "Correct composer is: Annamayya\n",
      "Prediction was: Annamayya\n",
      "~~~~~~~~~~~~~~~~~~~~~~~~\n",
      "~~~~~~~~~~~~~~~~~~~~~~~~\n",
      "Words in Vocabulary were:\n",
      "brova\n",
      "Correct composer is: Thyagaraja\n",
      "Prediction was: Thyagaraja\n",
      "~~~~~~~~~~~~~~~~~~~~~~~~\n",
      "~~~~~~~~~~~~~~~~~~~~~~~~\n",
      "Words in Vocabulary were:\n",
      "nammiti ninnu nera brovumu\n",
      "Correct composer is: ShyamaShaastri\n",
      "Prediction was: ShyamaShaastri\n",
      "~~~~~~~~~~~~~~~~~~~~~~~~\n",
      "~~~~~~~~~~~~~~~~~~~~~~~~\n",
      "Words in Vocabulary were:\n",
      "amba\n",
      "Correct composer is: ShyamaShaastri\n",
      "Prediction was: ShyamaShaastri\n",
      "~~~~~~~~~~~~~~~~~~~~~~~~\n",
      "~~~~~~~~~~~~~~~~~~~~~~~~\n",
      "Words in Vocabulary were:\n",
      "ni emi\n",
      "Correct composer is: Thyagaraja\n",
      "Prediction was: Thyagaraja\n",
      "~~~~~~~~~~~~~~~~~~~~~~~~\n",
      "~~~~~~~~~~~~~~~~~~~~~~~~\n",
      "Words in Vocabulary were:\n",
      "brova devi daya\n",
      "Correct composer is: ShyamaShaastri\n",
      "Prediction was: Thyagaraja\n",
      "~~~~~~~~~~~~~~~~~~~~~~~~\n",
      "~~~~~~~~~~~~~~~~~~~~~~~~\n",
      "Words in Vocabulary were:\n",
      "ni rada nannu brova o\n",
      "Correct composer is: ShyamaShaastri\n",
      "Prediction was: Thyagaraja\n",
      "~~~~~~~~~~~~~~~~~~~~~~~~\n",
      "~~~~~~~~~~~~~~~~~~~~~~~~\n",
      "Words in Vocabulary were:\n",
      "shri manasa\n",
      "Correct composer is: Ramadasu\n",
      "Prediction was: Thyagaraja\n",
      "~~~~~~~~~~~~~~~~~~~~~~~~\n",
      "~~~~~~~~~~~~~~~~~~~~~~~~\n",
      "Words in Vocabulary were:\n",
      "brovu nammiti ne nera\n",
      "Correct composer is: ShyamaShaastri\n",
      "Prediction was: ShyamaShaastri\n",
      "~~~~~~~~~~~~~~~~~~~~~~~~\n",
      "~~~~~~~~~~~~~~~~~~~~~~~~\n",
      "Words in Vocabulary were:\n",
      "shri ni amba kamaksi\n",
      "Correct composer is: ShyamaShaastri\n",
      "Prediction was: ShyamaShaastri\n",
      "~~~~~~~~~~~~~~~~~~~~~~~~\n",
      "~~~~~~~~~~~~~~~~~~~~~~~~\n",
      "Words in Vocabulary were:\n",
      "brovu ne ninnu\n",
      "Correct composer is: ShyamaShaastri\n",
      "Prediction was: ShyamaShaastri\n",
      "~~~~~~~~~~~~~~~~~~~~~~~~\n",
      "~~~~~~~~~~~~~~~~~~~~~~~~\n",
      "Words in Vocabulary were:\n",
      "manasa\n",
      "Correct composer is: Ramadasu\n",
      "Prediction was: Thyagaraja\n",
      "~~~~~~~~~~~~~~~~~~~~~~~~\n",
      "~~~~~~~~~~~~~~~~~~~~~~~~\n",
      "Words in Vocabulary were:\n",
      "narayana\n",
      "Correct composer is: Thyagaraja\n",
      "Prediction was: Ramadasu\n",
      "~~~~~~~~~~~~~~~~~~~~~~~~\n",
      "~~~~~~~~~~~~~~~~~~~~~~~~\n",
      "Words in Vocabulary were:\n",
      "shri rama\n",
      "Correct composer is: Ramadasu\n",
      "Prediction was: Thyagaraja\n",
      "~~~~~~~~~~~~~~~~~~~~~~~~\n"
     ]
    }
   ],
   "source": [
    "composer_id = {\n",
    "    \"Thyagaraja\":0,\n",
    "    \"ShyamaShaastri\":1,\n",
    "    \"Ramadasu\":2,\n",
    "    \"Annamayya\":3\n",
    "    }\n",
    "\n",
    "flipped_vocab_dict =  dict((v,k) for k,v in vocab_dict.iteritems())\n",
    "flipped_composer_dict =  dict((v,k) for k,v in composer_id.iteritems())\n",
    "\n",
    "for i in range(X_test.shape[0]):\n",
    "    print \"~~~~~~~~~~~~~~~~~~~~~~~~\"\n",
    "    print \"Words in Vocabulary were:\"\n",
    "    for m in range(X_test.shape[1]):\n",
    "        if X_test[i,m] > 0:\n",
    "            print flipped_vocab_dict[m],\n",
    "    \n",
    "    print\n",
    "    print \"Correct composer is:\", flipped_composer_dict[np.argmax(Y_test[i,:])]\n",
    "    print \"Prediction was:\", flipped_composer_dict[np.argmax(np.rint(Y_predictions[i,:]))]\n",
    "    print \"~~~~~~~~~~~~~~~~~~~~~~~~\"\n",
    "    "
   ]
  },
  {
   "cell_type": "code",
   "execution_count": null,
   "metadata": {
    "collapsed": true
   },
   "outputs": [],
   "source": []
  }
 ],
 "metadata": {
  "kernelspec": {
   "display_name": "Python 2",
   "language": "python",
   "name": "python2"
  },
  "language_info": {
   "codemirror_mode": {
    "name": "ipython",
    "version": 2
   },
   "file_extension": ".py",
   "mimetype": "text/x-python",
   "name": "python",
   "nbconvert_exporter": "python",
   "pygments_lexer": "ipython2",
   "version": "2.7.12"
  }
 },
 "nbformat": 4,
 "nbformat_minor": 1
}
